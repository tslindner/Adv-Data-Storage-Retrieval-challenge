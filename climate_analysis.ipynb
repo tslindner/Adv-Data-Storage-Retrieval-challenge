{
 "cells": [
  {
   "cell_type": "code",
   "execution_count": 1,
   "metadata": {},
   "outputs": [],
   "source": [
    "import pandas as pd\n",
    "import matplotlib.pyplot as plt\n",
    "from matplotlib import style\n",
    "style.use('fivethirtyeight')\n",
    "import sqlalchemy\n",
    "from sqlalchemy import func\n",
    "from sqlalchemy.ext.automap import automap_base\n",
    "from sqlalchemy.orm import Session\n",
    "import datetime as dt\n"
   ]
  },
  {
   "cell_type": "code",
   "execution_count": 2,
   "metadata": {},
   "outputs": [],
   "source": [
    "engine = sqlalchemy.create_engine(\"sqlite:///hawaii.sqlite\")"
   ]
  },
  {
   "cell_type": "code",
   "execution_count": 3,
   "metadata": {},
   "outputs": [],
   "source": [
    "base = automap_base()"
   ]
  },
  {
   "cell_type": "code",
   "execution_count": 4,
   "metadata": {},
   "outputs": [],
   "source": [
    "base.prepare(engine, reflect=True)"
   ]
  },
  {
   "cell_type": "code",
   "execution_count": 5,
   "metadata": {},
   "outputs": [
    {
     "data": {
      "text/plain": [
       "['measurements', 'stations']"
      ]
     },
     "execution_count": 5,
     "metadata": {},
     "output_type": "execute_result"
    }
   ],
   "source": [
    "base.classes.keys()"
   ]
  },
  {
   "cell_type": "code",
   "execution_count": 6,
   "metadata": {},
   "outputs": [],
   "source": [
    "measurements_table = base.classes.measurements\n",
    "stations_table = base.classes.stations"
   ]
  },
  {
   "cell_type": "code",
   "execution_count": 7,
   "metadata": {},
   "outputs": [],
   "source": [
    "session = Session(engine)"
   ]
  },
  {
   "cell_type": "code",
   "execution_count": 8,
   "metadata": {},
   "outputs": [],
   "source": [
    "start_date = dt.date(2016, 8, 23)\n",
    "end_date = dt.date(2017, 8, 23)"
   ]
  },
  {
   "cell_type": "code",
   "execution_count": 9,
   "metadata": {},
   "outputs": [],
   "source": [
    "results = session.query(measurements_table.date, measurements_table.prcp)\\\n",
    ".filter(measurements_table.date >= start_date).filter(measurements_table.date <= end_date).all()"
   ]
  },
  {
   "cell_type": "code",
   "execution_count": null,
   "metadata": {},
   "outputs": [],
   "source": []
  },
  {
   "cell_type": "code",
   "execution_count": 10,
   "metadata": {},
   "outputs": [
    {
     "data": {
      "text/plain": [
       "<matplotlib.axes._subplots.AxesSubplot at 0x19fd82e7048>"
      ]
     },
     "execution_count": 10,
     "metadata": {},
     "output_type": "execute_result"
    },
    {
     "data": {
      "image/png": "[encoded data removed]",
      "text/plain": [
       "<matplotlib.figure.Figure at 0x19fd82e71d0>"
      ]
     },
     "metadata": {},
     "output_type": "display_data"
    }
   ],
   "source": [
    "precip_df = pd.DataFrame(results, columns=[\"date\", \"prcp\"])\n",
    "precip_df.set_index(precip_df['date'], inplace=True)\n",
    "precip_df.plot()"
   ]
  },
  {
   "cell_type": "code",
   "execution_count": 11,
   "metadata": {},
   "outputs": [
    {
     "data": {
      "text/plain": [
       "[(9)]"
      ]
     },
     "execution_count": 11,
     "metadata": {},
     "output_type": "execute_result"
    }
   ],
   "source": [
    "session.query(func.count(stations_table.station)).all()"
   ]
  },
  {
   "cell_type": "code",
   "execution_count": 12,
   "metadata": {},
   "outputs": [
    {
     "data": {
      "text/plain": [
       "[('USC00519281', 2772),\n",
       " ('USC00513117', 2696),\n",
       " ('USC00519397', 2685),\n",
       " ('USC00519523', 2572),\n",
       " ('USC00516128', 2484),\n",
       " ('USC00514830', 1937),\n",
       " ('USC00511918', 1932),\n",
       " ('USC00517948', 683),\n",
       " ('USC00518838', 342)]"
      ]
     },
     "execution_count": 12,
     "metadata": {},
     "output_type": "execute_result"
    }
   ],
   "source": [
    "session.query(measurements_table.station, func.count(measurements_table.station)).group_by(measurements_table.station)\\\n",
    ".order_by(func.count(measurements_table.station).desc()).all()"
   ]
  },
  {
   "cell_type": "code",
   "execution_count": 13,
   "metadata": {},
   "outputs": [],
   "source": [
    "# 'USC00519281' has the highest number of observations\n",
    "#  USC00519281,\"WAIHEE 837.5, HI US\",21.45167,-157.84888999999998,32.9"
   ]
  },
  {
   "cell_type": "code",
   "execution_count": 14,
   "metadata": {},
   "outputs": [
    {
     "data": {
      "text/plain": [
       "<matplotlib.axes._subplots.AxesSubplot at 0x19fd97b49e8>"
      ]
     },
     "execution_count": 14,
     "metadata": {},
     "output_type": "execute_result"
    },
    {
     "data": {
      "image/png": "[encoded data removed]",
      "text/plain": [
       "<matplotlib.figure.Figure at 0x19fd97b43c8>"
      ]
     },
     "metadata": {},
     "output_type": "display_data"
    }
   ],
   "source": [
    "results = session.query(measurements_table.tobs).filter(measurements_table.station == 'USC00519281')\\\n",
    ".filter(measurements_table.date >= start_date).filter(measurements_table.date <= end_date).all()\n",
    "df = pd.DataFrame(results, columns=['tobs'])\n",
    "df.plot.hist(bins=12)"
   ]
  },
  {
   "cell_type": "code",
   "execution_count": 15,
   "metadata": {},
   "outputs": [],
   "source": [
    "def calc_temps(start_date, end_date):\n",
    "    return session.query(func.min(measurements_table.tobs), func.avg(measurements_table.tobs), \\\n",
    "                         func.max(measurements_table.tobs)).filter(measurements_table.date >= start_date)\\\n",
    "                        .filter(measurements_table.date <= end_date).all()\n"
   ]
  },
  {
   "cell_type": "code",
   "execution_count": 16,
   "metadata": {},
   "outputs": [
    {
     "data": {
      "text/plain": [
       "[(71.0, 78.125, 84.0)]"
      ]
     },
     "execution_count": 16,
     "metadata": {},
     "output_type": "execute_result"
    }
   ],
   "source": [
    "calc_temps('2016-08-23', '2016-08-30')"
   ]
  },
  {
   "cell_type": "code",
   "execution_count": 17,
   "metadata": {},
   "outputs": [],
   "source": [
    "min_avg_max = calc_temps('2016-08-23', '2016-08-30')"
   ]
  },
  {
   "cell_type": "code",
   "execution_count": 18,
   "metadata": {},
   "outputs": [],
   "source": [
    "min_temp = min_avg_max[0][0]\n",
    "avg_temp = min_avg_max[0][1]\n",
    "max_temp = min_avg_max[0][2]"
   ]
  },
  {
   "cell_type": "code",
   "execution_count": 19,
   "metadata": {},
   "outputs": [
    {
     "data": {
      "text/plain": [
       "Text(0,0.5,'Temp')"
      ]
     },
     "execution_count": 19,
     "metadata": {},
     "output_type": "execute_result"
    },
    {
     "data": {
      "image/png": "[encoded data removed]",
      "text/plain": [
       "<matplotlib.figure.Figure at 0x19fd97ee630>"
      ]
     },
     "metadata": {},
     "output_type": "display_data"
    }
   ],
   "source": [
    "plt.bar(x=1, height=avg_temp, yerr=max_temp-min_temp, align=\"center\", color=\"pink\")\n",
    "plt.title(\"Avg temp\")\n",
    "plt.ylabel(\"Temp\")\n"
   ]
  },
  {
   "cell_type": "code",
   "execution_count": 21,
   "metadata": {},
   "outputs": [
    {
     "data": {
      "text/plain": [
       "{'2016-08-23': 0.7,\n",
       " '2016-08-24': 1.45,\n",
       " '2016-08-25': 0.11,\n",
       " '2016-08-26': 0.01,\n",
       " '2016-08-27': 0.12,\n",
       " '2016-08-28': 2.07,\n",
       " '2016-08-29': 0.9,\n",
       " '2016-08-30': 0.05,\n",
       " '2016-08-31': 2.46,\n",
       " '2016-09-01': 0.01,\n",
       " '2016-09-02': 0.03,\n",
       " '2016-09-03': 1.0,\n",
       " '2016-09-04': 0.44,\n",
       " '2016-09-05': 0.18,\n",
       " '2016-09-06': 1.0,\n",
       " '2016-09-07': 1.35,\n",
       " '2016-09-08': 0.15,\n",
       " '2016-09-09': 0.35,\n",
       " '2016-09-10': 1.16,\n",
       " '2016-09-11': 0.6,\n",
       " '2016-09-12': 1.04,\n",
       " '2016-09-13': 1.2,\n",
       " '2016-09-14': 6.7,\n",
       " '2016-09-15': 3.35,\n",
       " '2016-09-16': 0.61,\n",
       " '2016-09-17': 0.23,\n",
       " '2016-09-18': 0.42,\n",
       " '2016-09-19': 0.25,\n",
       " '2016-09-20': 0.43,\n",
       " '2016-09-21': 1.02,\n",
       " '2016-09-22': 0.75,\n",
       " '2016-09-23': 0.33,\n",
       " '2016-09-24': 0.27,\n",
       " '2016-09-25': 0.04,\n",
       " '2016-09-26': 1.02,\n",
       " '2016-09-27': 1.0,\n",
       " '2016-09-28': 0.05,\n",
       " '2016-09-29': 1.49,\n",
       " '2016-09-30': 0.38,\n",
       " '2016-10-01': 1.02,\n",
       " '2016-10-02': 0.61,\n",
       " '2016-10-03': 0.46,\n",
       " '2016-10-04': 3.46,\n",
       " '2016-10-05': 0.81,\n",
       " '2016-10-06': 0.04,\n",
       " '2016-10-07': 0.01,\n",
       " '2016-10-08': 0.04,\n",
       " '2016-10-09': 0.0,\n",
       " '2016-10-10': 0.0,\n",
       " '2016-10-11': 0.35,\n",
       " '2016-10-12': 0.02,\n",
       " '2016-10-13': 0.06,\n",
       " '2016-10-14': 0.0,\n",
       " '2016-10-15': 0.33,\n",
       " '2016-10-16': 0.0,\n",
       " '2016-10-17': 0.38,\n",
       " '2016-10-18': 0.48,\n",
       " '2016-10-19': 0.0,\n",
       " '2016-10-20': 1.0,\n",
       " '2016-10-21': 0.09,\n",
       " '2016-10-22': 1.37,\n",
       " '2016-10-23': 0.24,\n",
       " '2016-10-24': 0.7,\n",
       " '2016-10-25': 0.4,\n",
       " '2016-10-26': 0.0,\n",
       " '2016-10-27': 1.25,\n",
       " '2016-10-28': 0.37,\n",
       " '2016-10-29': 0.25,\n",
       " '2016-10-30': 0.95,\n",
       " '2016-10-31': 1.35,\n",
       " '2016-11-01': 0.09,\n",
       " '2016-11-02': 0.04,\n",
       " '2016-11-03': 0.02,\n",
       " '2016-11-04': 0.06,\n",
       " '2016-11-05': 0.38,\n",
       " '2016-11-06': 0.05,\n",
       " '2016-11-07': 0.05,\n",
       " '2016-11-08': 0.53,\n",
       " '2016-11-09': 0.04,\n",
       " '2016-11-10': 0.01,\n",
       " '2016-11-11': 0.0,\n",
       " '2016-11-12': 0.0,\n",
       " '2016-11-13': 0.0,\n",
       " '2016-11-14': 0.02,\n",
       " '2016-11-15': 0.05,\n",
       " '2016-11-16': 0.91,\n",
       " '2016-11-17': 0.02,\n",
       " '2016-11-18': 0.0,\n",
       " '2016-11-19': 0.11,\n",
       " '2016-11-20': 0.39,\n",
       " '2016-11-21': 2.87,\n",
       " '2016-11-22': 2.11,\n",
       " '2016-11-23': 0.22,\n",
       " '2016-11-24': 0.72,\n",
       " '2016-11-25': 1.03,\n",
       " '2016-11-26': 0.3,\n",
       " '2016-11-27': 0.29,\n",
       " '2016-11-28': 0.69,\n",
       " '2016-11-29': 0.2,\n",
       " '2016-11-30': 0.79,\n",
       " '2016-12-01': 0.72,\n",
       " '2016-12-02': 1.27,\n",
       " '2016-12-03': 1.62,\n",
       " '2016-12-04': 0.31,\n",
       " '2016-12-05': 1.6,\n",
       " '2016-12-06': 0.0,\n",
       " '2016-12-07': 0.02,\n",
       " '2016-12-08': 0.03,\n",
       " '2016-12-09': 0.42,\n",
       " '2016-12-10': 0.04,\n",
       " '2016-12-11': 0.13,\n",
       " '2016-12-12': 0.01,\n",
       " '2016-12-13': 0.09,\n",
       " '2016-12-14': 0.33,\n",
       " '2016-12-15': 0.03,\n",
       " '2016-12-16': 0.0,\n",
       " '2016-12-17': 0.07,\n",
       " '2016-12-18': 0.16,\n",
       " '2016-12-19': 0.15,\n",
       " '2016-12-20': 0.0,\n",
       " '2016-12-21': 0.55,\n",
       " '2016-12-22': 1.24,\n",
       " '2016-12-23': 0.83,\n",
       " '2016-12-24': 1.08,\n",
       " '2016-12-25': 0.38,\n",
       " '2016-12-26': 1.48,\n",
       " '2016-12-27': 0.14,\n",
       " '2016-12-28': 0.14,\n",
       " '2016-12-29': 1.03,\n",
       " '2016-12-30': 2.37,\n",
       " '2016-12-31': 0.9,\n",
       " '2017-01-01': 0.03,\n",
       " '2017-01-02': 0.0,\n",
       " '2017-01-03': 0.0,\n",
       " '2017-01-04': 0.0,\n",
       " '2017-01-05': 0.47,\n",
       " '2017-01-06': 0.1,\n",
       " '2017-01-07': 0.0,\n",
       " '2017-01-08': 0.03,\n",
       " '2017-01-09': 0.0,\n",
       " '2017-01-10': 0.0,\n",
       " '2017-01-11': 0.0,\n",
       " '2017-01-12': 0.0,\n",
       " '2017-01-13': 0.0,\n",
       " '2017-01-14': 0.0,\n",
       " '2017-01-15': 0.01,\n",
       " '2017-01-16': 0.0,\n",
       " '2017-01-17': 0.0,\n",
       " '2017-01-18': 0.07,\n",
       " '2017-01-19': 0.0,\n",
       " '2017-01-20': 0.0,\n",
       " '2017-01-21': 0.08,\n",
       " '2017-01-22': 0.72,\n",
       " '2017-01-23': 0.85,\n",
       " '2017-01-24': 1.85,\n",
       " '2017-01-25': 2.64,\n",
       " '2017-01-26': 0.1,\n",
       " '2017-01-27': 0.03,\n",
       " '2017-01-28': 0.0,\n",
       " '2017-01-29': 0.55,\n",
       " '2017-01-30': 0.0,\n",
       " '2017-01-31': 0.0,\n",
       " '2017-02-01': 0.0,\n",
       " '2017-02-02': 0.0,\n",
       " '2017-02-03': 0.0,\n",
       " '2017-02-04': 0.0,\n",
       " '2017-02-05': 0.0,\n",
       " '2017-02-06': 0.0,\n",
       " '2017-02-07': 1.79,\n",
       " '2017-02-08': 0.0,\n",
       " '2017-02-09': 0.0,\n",
       " '2017-02-10': 0.0,\n",
       " '2017-02-11': 0.73,\n",
       " '2017-02-12': 1.83,\n",
       " '2017-02-13': 0.0,\n",
       " '2017-02-14': 0.01,\n",
       " '2017-02-15': 0.07,\n",
       " '2017-02-16': 0.13,\n",
       " '2017-02-17': 0.13,\n",
       " '2017-02-18': 0.0,\n",
       " '2017-02-19': 0.1,\n",
       " '2017-02-20': 0.0,\n",
       " '2017-02-21': 0.07,\n",
       " '2017-02-22': 0.32,\n",
       " '2017-02-23': 0.0,\n",
       " '2017-02-24': 0.0,\n",
       " '2017-02-25': 0.12,\n",
       " '2017-02-26': 0.0,\n",
       " '2017-02-27': 0.0,\n",
       " '2017-02-28': 0.58,\n",
       " '2017-03-01': 2.0,\n",
       " '2017-03-02': 0.58,\n",
       " '2017-03-03': 0.56,\n",
       " '2017-03-04': 0.0,\n",
       " '2017-03-05': 0.35,\n",
       " '2017-03-06': 0.0,\n",
       " '2017-03-07': 0.0,\n",
       " '2017-03-08': 0.0,\n",
       " '2017-03-09': 0.01,\n",
       " '2017-03-10': 0.0,\n",
       " '2017-03-11': 0.0,\n",
       " '2017-03-12': 0.0,\n",
       " '2017-03-13': 0.0,\n",
       " '2017-03-14': 0.0,\n",
       " '2017-03-15': 0.0,\n",
       " '2017-03-16': 0.0,\n",
       " '2017-03-17': 0.12,\n",
       " '2017-03-18': 0.0,\n",
       " '2017-03-19': 0.0,\n",
       " '2017-03-20': 0.0,\n",
       " '2017-03-21': 0.0,\n",
       " '2017-03-22': 0.0,\n",
       " '2017-03-23': 0.03,\n",
       " '2017-03-24': 0.17,\n",
       " '2017-03-25': 0.48,\n",
       " '2017-03-26': 0.0,\n",
       " '2017-03-27': 0.0,\n",
       " '2017-03-28': 0.68,\n",
       " '2017-03-29': 0.07,\n",
       " '2017-03-30': 0.04,\n",
       " '2017-03-31': 0.01,\n",
       " '2017-04-01': 0.2,\n",
       " '2017-04-02': 0.0,\n",
       " '2017-04-03': 0.23,\n",
       " '2017-04-04': 0.02,\n",
       " '2017-04-05': 0.45,\n",
       " '2017-04-06': 0.0,\n",
       " '2017-04-07': 0.0,\n",
       " '2017-04-08': 0.0,\n",
       " '2017-04-09': 0.0,\n",
       " '2017-04-10': 0.0,\n",
       " '2017-04-11': 0.25,\n",
       " '2017-04-12': 0.65,\n",
       " '2017-04-13': 0.23,\n",
       " '2017-04-14': 2.82,\n",
       " '2017-04-15': 0.9,\n",
       " '2017-04-16': 0.11,\n",
       " '2017-04-17': 1.3,\n",
       " '2017-04-18': 0.98,\n",
       " '2017-04-19': 0.14,\n",
       " '2017-04-20': 0.0,\n",
       " '2017-04-21': 1.84,\n",
       " '2017-04-22': 1.35,\n",
       " '2017-04-23': 0.35,\n",
       " '2017-04-24': 0.05,\n",
       " '2017-04-25': 0.0,\n",
       " '2017-04-26': 0.22,\n",
       " '2017-04-27': 0.11,\n",
       " '2017-04-28': 0.79,\n",
       " '2017-04-29': 0.0,\n",
       " '2017-04-30': 0.8,\n",
       " '2017-05-01': 0.25,\n",
       " '2017-05-02': 0.0,\n",
       " '2017-05-03': 0.01,\n",
       " '2017-05-04': 0.0,\n",
       " '2017-05-05': 0.1,\n",
       " '2017-05-06': 0.0,\n",
       " '2017-05-07': 0.03,\n",
       " '2017-05-08': 1.11,\n",
       " '2017-05-09': 0.23,\n",
       " '2017-05-10': 0.55,\n",
       " '2017-05-11': 0.44,\n",
       " '2017-05-12': 0.1,\n",
       " '2017-05-13': 0.1,\n",
       " '2017-05-14': 1.0,\n",
       " '2017-05-15': 0.6,\n",
       " '2017-05-16': 0.3,\n",
       " '2017-05-17': 0.06,\n",
       " '2017-05-18': 0.0,\n",
       " '2017-05-19': 0.01,\n",
       " '2017-05-20': 0.02,\n",
       " '2017-05-21': 0.0,\n",
       " '2017-05-22': 0.3,\n",
       " '2017-05-23': 0.44,\n",
       " '2017-05-24': 2.17,\n",
       " '2017-05-25': 0.88,\n",
       " '2017-05-26': 0.0,\n",
       " '2017-05-27': 0.5,\n",
       " '2017-05-28': 0.0,\n",
       " '2017-05-29': 0.4,\n",
       " '2017-05-30': 1.12,\n",
       " '2017-05-31': 0.25,\n",
       " '2017-06-01': 0.01,\n",
       " '2017-06-02': 0.09,\n",
       " '2017-06-03': 0.08,\n",
       " '2017-06-04': 0.82,\n",
       " '2017-06-05': 0.01,\n",
       " '2017-06-06': 0.0,\n",
       " '2017-06-07': 0.01,\n",
       " '2017-06-08': 0.0,\n",
       " '2017-06-09': 0.02,\n",
       " '2017-06-10': 0.62,\n",
       " '2017-06-11': 0.7,\n",
       " '2017-06-12': 0.81,\n",
       " '2017-06-13': 0.65,\n",
       " '2017-06-14': 0.81,\n",
       " '2017-06-15': 1.69,\n",
       " '2017-06-16': 0.1,\n",
       " '2017-06-17': 0.1,\n",
       " '2017-06-18': 0.7,\n",
       " '2017-06-19': 0.4,\n",
       " '2017-06-20': 0.31,\n",
       " '2017-06-21': 0.3,\n",
       " '2017-06-22': 0.28,\n",
       " '2017-06-23': 0.5,\n",
       " '2017-06-24': 0.22,\n",
       " '2017-06-25': 0.5,\n",
       " '2017-06-26': 0.02,\n",
       " '2017-06-27': 0.1,\n",
       " '2017-06-28': 0.02,\n",
       " '2017-06-29': 0.04,\n",
       " '2017-06-30': 0.2,\n",
       " '2017-07-01': 0.1,\n",
       " '2017-07-02': 0.5,\n",
       " '2017-07-03': 0.4,\n",
       " '2017-07-04': 0.0,\n",
       " '2017-07-05': 0.0,\n",
       " '2017-07-06': 0.02,\n",
       " '2017-07-07': 0.3,\n",
       " '2017-07-08': 0.02,\n",
       " '2017-07-09': 0.0,\n",
       " '2017-07-10': 0.02,\n",
       " '2017-07-11': 0.0,\n",
       " '2017-07-12': 0.05,\n",
       " '2017-07-13': 0.68,\n",
       " '2017-07-14': 0.68,\n",
       " '2017-07-15': 0.1,\n",
       " '2017-07-16': 0.5,\n",
       " '2017-07-17': 0.39,\n",
       " '2017-07-18': 2.4,\n",
       " '2017-07-19': 0.27,\n",
       " '2017-07-20': 0.7,\n",
       " '2017-07-21': 0.1,\n",
       " '2017-07-22': 4.0,\n",
       " '2017-07-23': 0.8,\n",
       " '2017-07-24': 0.84,\n",
       " '2017-07-25': 0.3,\n",
       " '2017-07-26': 0.3,\n",
       " '2017-07-27': 0.0,\n",
       " '2017-07-28': 0.4,\n",
       " '2017-07-29': 0.3,\n",
       " '2017-07-30': 0.3,\n",
       " '2017-07-31': 0.0,\n",
       " '2017-08-01': 0.0,\n",
       " '2017-08-02': 0.25,\n",
       " '2017-08-03': 0.06,\n",
       " '2017-08-04': 0.0,\n",
       " '2017-08-05': 0.06,\n",
       " '2017-08-06': 0.0,\n",
       " '2017-08-07': 0.05,\n",
       " '2017-08-08': 0.34,\n",
       " '2017-08-09': 0.15,\n",
       " '2017-08-10': 0.07,\n",
       " '2017-08-11': 0.0,\n",
       " '2017-08-12': 0.14,\n",
       " '2017-08-13': 0.0,\n",
       " '2017-08-14': 0.22,\n",
       " '2017-08-15': 0.42,\n",
       " '2017-08-16': 0.42,\n",
       " '2017-08-17': 0.13,\n",
       " '2017-08-18': 0.06,\n",
       " '2017-08-19': 0.09,\n",
       " '2017-08-20': 0.01,\n",
       " '2017-08-21': 0.56,\n",
       " '2017-08-22': 0.5,\n",
       " '2017-08-23': 0.45}"
      ]
     },
     "execution_count": 21,
     "metadata": {},
     "output_type": "execute_result"
    }
   ],
   "source": [
    "# start_date = dt.date(2016, 8, 23)\n",
    "# end_date = dt.date(2017, 8, 23)\n",
    "\n",
    "# precipitation = session.query(measurements_table.date, measurements_table.prcp)\\\n",
    "# .filter(measurements_table.date >= start_date)\\\n",
    "# .filter(measurements_table.date <= end_date).all()\n",
    "\n",
    "# #professions = dict([ (p.name, p.profession) for p in people ])\n",
    "# precip_dict = dict([ (i.date, i.prcp) for i in precipitation ])\n",
    "# precip_dict"
   ]
  },
  {
   "cell_type": "code",
   "execution_count": null,
   "metadata": {},
   "outputs": [],
   "source": []
  }
 ],
 "metadata": {
  "kernelspec": {
   "display_name": "Python 3",
   "language": "python",
   "name": "python3"
  },
  "language_info": {
   "codemirror_mode": {
    "name": "ipython",
    "version": 3
   },
   "file_extension": ".py",
   "mimetype": "text/x-python",
   "name": "python",
   "nbconvert_exporter": "python",
   "pygments_lexer": "ipython3",
   "version": "3.6.4"
  }
 },
 "nbformat": 4,
 "nbformat_minor": 2
}
