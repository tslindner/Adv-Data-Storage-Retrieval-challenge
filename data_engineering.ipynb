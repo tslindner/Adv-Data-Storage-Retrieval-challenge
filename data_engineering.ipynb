{
 "cells": [
  {
   "cell_type": "code",
   "execution_count": 1,
   "metadata": {},
   "outputs": [],
   "source": [
    "import pandas as pd"
   ]
  },
  {
   "cell_type": "code",
   "execution_count": 2,
   "metadata": {},
   "outputs": [],
   "source": [
    "station_path = \"Resources/hawaii_stations.csv\"\n",
    "measurement_path = \"Resources/hawaii_measurements.csv\"\n",
    "\n",
    "st_df = pd.read_csv(station_path)\n",
    "ms_df = pd.read_csv(measurement_path)\n",
    "\n",
    "ms_df = ms_df.dropna(axis=0, how='any')"
   ]
  },
  {
   "cell_type": "code",
   "execution_count": 3,
   "metadata": {},
   "outputs": [],
   "source": [
    "st_clean_path = \"Resources/clean_hawaii_stations.csv\"\n",
    "ms_clean_path = \"Resources/clean_hawaii_measurements.csv\""
   ]
  },
  {
   "cell_type": "code",
   "execution_count": 4,
   "metadata": {},
   "outputs": [],
   "source": [
    "st_df.to_csv(st_clean_path, index=False)\n",
    "ms_df.to_csv(ms_clean_path, index=False)"
   ]
  }
 ],
 "metadata": {
  "kernelspec": {
   "display_name": "Python 3",
   "language": "python",
   "name": "python3"
  },
  "language_info": {
   "codemirror_mode": {
    "name": "ipython",
    "version": 3
   },
   "file_extension": ".py",
   "mimetype": "text/x-python",
   "name": "python",
   "nbconvert_exporter": "python",
   "pygments_lexer": "ipython3",
   "version": "3.6.4"
  }
 },
 "nbformat": 4,
 "nbformat_minor": 2
}
